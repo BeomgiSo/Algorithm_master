{
 "cells": [
  {
   "attachments": {},
   "cell_type": "markdown",
   "metadata": {},
   "source": [
    "# 동적계획법\n",
    "\n",
    "__DP의 핵심은 점화식을 세우는 능력이다.__\n",
    "\n",
    "\n",
    "- 정의 : 큰 문에 대한 답을 얻기 위해 동일한 문제이지만 크기가 더 작은 문제들을 먼저 해결한 뒤, 그 결과들을 이용해 큰 문제를 비교적 간단하게 해결하는 기법\n",
    "\n",
    "![img](./img/img1.png)\n",
    "\n",
    "- 점화식을 이용한 피보나치 수열\n",
    "- N은 자연수\n",
    "$$F(1) = 1$$\n",
    "$$F(N) = F(N-1) \\cdot N$$\n"
   ]
  },
  {
   "cell_type": "code",
   "execution_count": 3,
   "metadata": {},
   "outputs": [
    {
     "data": {
      "text/plain": [
       "[1, 1, 2, 6, 24, 120, 720, 5040, 40320, 362880]"
      ]
     },
     "execution_count": 3,
     "metadata": {},
     "output_type": "execute_result"
    }
   ],
   "source": [
    "# 첫 번쨰는 for loop 이용\n",
    "N = 10\n",
    "f = [0 for _ in range(N)]\n",
    "\n",
    "f[0] = 1\n",
    "for i in range(1,N):\n",
    "    f[i] = f[i - 1] * i\n",
    "f"
   ]
  },
  {
   "cell_type": "code",
   "execution_count": 4,
   "metadata": {},
   "outputs": [
    {
     "name": "stdout",
     "output_type": "stream",
     "text": [
      "3628800\n"
     ]
    }
   ],
   "source": [
    "# 재귀함수 이용\n",
    "def f(n):\n",
    "    if n == 1:\n",
    "        return 1\n",
    "    \n",
    "    else:\n",
    "        \n",
    "        return f(n-1) * n\n",
    "    \n",
    "print(f(10))"
   ]
  },
  {
   "attachments": {},
   "cell_type": "markdown",
   "metadata": {},
   "source": [
    "- 동적계획법은 점화식을 기반으로 하는 방법이며 For 문을 이용하여 해결할 수 있고 재귀함수를 활용하는것도 가능하다."
   ]
  },
  {
   "attachments": {},
   "cell_type": "markdown",
   "metadata": {},
   "source": [
    "## 메모이제이션(Memoization)\n",
    "- 탑다운 방식\n",
    "- 재귀함수와의 차이를 명확히 인지해야한다.\n",
    "\n",
    "- 피보나치수열 예시"
   ]
  },
  {
   "attachments": {},
   "cell_type": "markdown",
   "metadata": {},
   "source": [
    "## Tabulation\n",
    "\n",
    "- For문을 사용하여 순서대로 배열을 채워나가는 방식"
   ]
  },
  {
   "cell_type": "code",
   "execution_count": null,
   "metadata": {},
   "outputs": [],
   "source": [
    "dp = [0] * MAX_N\n",
    "dp[1] = 1\n",
    "dp[2] = 1\n",
    "\n",
    "for i in range(3, n + 1):\n",
    "    dp[i] = dp[i - 1] + dp[i - 2]\n",
    "\n",
    "print(dp[n])"
   ]
  },
  {
   "attachments": {},
   "cell_type": "markdown",
   "metadata": {},
   "source": [
    "- Memoization의 경우에는 높은 수에서 낮은 수 (구하려는 n번째 식을 구하기 위해 n - 1, n - 2번째 값을 구하려고 하므로)로 내려가기 때문에 탑다운 방식 (Top-Down Approach) \n",
    "\n",
    "- Tabulation의 경우에는 아래에서 값을 채워 나가기 때문에 바텀업 방식 (Bottom-Up Approach)\n",
    "\n",
    "- 이론적인 시간복잡도는 두 방법이 동일하나, 탑다운 방식은 함수를 재귀적으로 여러번 실행해야 하므로 함수 처리에 추가적인 시간이 약간 더 붙어 실제로는 바텀업 방식이 약간 더 빠르다.\n",
    "\n",
    "- 어떤 문제를 풀 때 둘 중 어떤 방법을 사용해도 문제는 없지만, 특정 문제의 경우 한 방법으로 푸는 것이 더 쉬운 경우가 존재하므로, 두 방법을 모두 익혀두자"
   ]
  },
  {
   "cell_type": "code",
   "execution_count": null,
   "metadata": {},
   "outputs": [],
   "source": []
  },
  {
   "attachments": {},
   "cell_type": "markdown",
   "metadata": {},
   "source": [
    "# 격자안에서 한칸씩 전진하는 DP\n",
    "\n"
   ]
  }
 ],
 "metadata": {
  "kernelspec": {
   "display_name": "Python 3",
   "language": "python",
   "name": "python3"
  },
  "language_info": {
   "codemirror_mode": {
    "name": "ipython",
    "version": 3
   },
   "file_extension": ".py",
   "mimetype": "text/x-python",
   "name": "python",
   "nbconvert_exporter": "python",
   "pygments_lexer": "ipython3",
   "version": "3.9.6"
  },
  "orig_nbformat": 4
 },
 "nbformat": 4,
 "nbformat_minor": 2
}
